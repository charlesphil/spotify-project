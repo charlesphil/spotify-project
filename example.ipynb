{
 "cells": [
  {
   "cell_type": "code",
   "execution_count": 8,
   "metadata": {},
   "outputs": [
    {
     "name": "stdout",
     "output_type": "stream",
     "text": [
      "track    : Stairway to Heaven - Remaster\n",
      "audio    : https://p.scdn.co/mp3-preview/fc80a280376d5142c888475bd8fdcd00b4fc8d7d?cid=000c1e86653342e6a32309d577bf6b0e\n",
      "cover art: https://i.scdn.co/image/ab67616d0000b273c8a11e48c91a982d086afc69\n",
      "track_uri: spotify:track:5CQ30WqJwcep0pYcV4AMNc\n",
      "[{'danceability': 0.338, 'energy': 0.34, 'key': 9, 'loudness': -12.049, 'mode': 0, 'speechiness': 0.0339, 'acousticness': 0.58, 'instrumentalness': 0.0032, 'liveness': 0.116, 'valence': 0.197, 'tempo': 82.433, 'type': 'audio_features', 'id': '5CQ30WqJwcep0pYcV4AMNc', 'uri': 'spotify:track:5CQ30WqJwcep0pYcV4AMNc', 'track_href': 'https://api.spotify.com/v1/tracks/5CQ30WqJwcep0pYcV4AMNc', 'analysis_url': 'https://api.spotify.com/v1/audio-analysis/5CQ30WqJwcep0pYcV4AMNc', 'duration_ms': 482830, 'time_signature': 4}]\n",
      "\n",
      "track    : Immigrant Song - Remaster\n",
      "audio    : https://p.scdn.co/mp3-preview/e5910b86cc788766388cca1c494094e39186aa1e?cid=000c1e86653342e6a32309d577bf6b0e\n",
      "cover art: https://i.scdn.co/image/ab67616d0000b27390a50cfe99a4c19ff3cbfbdb\n",
      "track_uri: spotify:track:78lgmZwycJ3nzsdgmPPGNx\n",
      "[{'danceability': 0.564, 'energy': 0.932, 'key': 11, 'loudness': -10.068, 'mode': 1, 'speechiness': 0.0554, 'acousticness': 0.013, 'instrumentalness': 0.169, 'liveness': 0.349, 'valence': 0.619, 'tempo': 112.937, 'type': 'audio_features', 'id': '78lgmZwycJ3nzsdgmPPGNx', 'uri': 'spotify:track:78lgmZwycJ3nzsdgmPPGNx', 'track_href': 'https://api.spotify.com/v1/tracks/78lgmZwycJ3nzsdgmPPGNx', 'analysis_url': 'https://api.spotify.com/v1/audio-analysis/78lgmZwycJ3nzsdgmPPGNx', 'duration_ms': 146250, 'time_signature': 4}]\n",
      "\n",
      "track    : Whole Lotta Love - 1990 Remaster\n",
      "audio    : https://p.scdn.co/mp3-preview/f3765a6c5b194302c6e7fffc31ba21e2bd616cf6?cid=000c1e86653342e6a32309d577bf6b0e\n",
      "cover art: https://i.scdn.co/image/ab67616d0000b273fc4f17340773c6c3579fea0d\n",
      "track_uri: spotify:track:0hCB0YR03f6AmQaHbwWDe8\n",
      "[{'danceability': 0.412, 'energy': 0.902, 'key': 9, 'loudness': -11.6, 'mode': 1, 'speechiness': 0.405, 'acousticness': 0.0484, 'instrumentalness': 0.131, 'liveness': 0.405, 'valence': 0.422, 'tempo': 89.74, 'type': 'audio_features', 'id': '0hCB0YR03f6AmQaHbwWDe8', 'uri': 'spotify:track:0hCB0YR03f6AmQaHbwWDe8', 'track_href': 'https://api.spotify.com/v1/tracks/0hCB0YR03f6AmQaHbwWDe8', 'analysis_url': 'https://api.spotify.com/v1/audio-analysis/0hCB0YR03f6AmQaHbwWDe8', 'duration_ms': 333893, 'time_signature': 4}]\n",
      "\n",
      "track    : Black Dog - Remaster\n",
      "audio    : https://p.scdn.co/mp3-preview/f82af31817a7ec198a709e68f0f0f9edfc9a7e81?cid=000c1e86653342e6a32309d577bf6b0e\n",
      "cover art: https://i.scdn.co/image/ab67616d0000b273c8a11e48c91a982d086afc69\n",
      "track_uri: spotify:track:3qT4bUD1MaWpGrTwcvguhb\n",
      "[{'danceability': 0.437, 'energy': 0.864, 'key': 4, 'loudness': -7.842, 'mode': 0, 'speechiness': 0.0904, 'acousticness': 0.396, 'instrumentalness': 0.0314, 'liveness': 0.242, 'valence': 0.749, 'tempo': 81.394, 'type': 'audio_features', 'id': '3qT4bUD1MaWpGrTwcvguhb', 'uri': 'spotify:track:3qT4bUD1MaWpGrTwcvguhb', 'track_href': 'https://api.spotify.com/v1/tracks/3qT4bUD1MaWpGrTwcvguhb', 'analysis_url': 'https://api.spotify.com/v1/audio-analysis/3qT4bUD1MaWpGrTwcvguhb', 'duration_ms': 295387, 'time_signature': 4}]\n",
      "\n",
      "track    : Kashmir - Remaster\n",
      "audio    : https://p.scdn.co/mp3-preview/64908f0ca685e8727a2f07615ee147d28adbc450?cid=000c1e86653342e6a32309d577bf6b0e\n",
      "cover art: https://i.scdn.co/image/ab67616d0000b273765b0617b572bdd1dbdc7d8e\n",
      "track_uri: spotify:track:6Vjk8MNXpQpi0F4BefdTyq\n",
      "[{'danceability': 0.483, 'energy': 0.615, 'key': 2, 'loudness': -8.538, 'mode': 1, 'speechiness': 0.0497, 'acousticness': 0.452, 'instrumentalness': 0.000414, 'liveness': 0.0512, 'valence': 0.594, 'tempo': 80.576, 'type': 'audio_features', 'id': '6Vjk8MNXpQpi0F4BefdTyq', 'uri': 'spotify:track:6Vjk8MNXpQpi0F4BefdTyq', 'track_href': 'https://api.spotify.com/v1/tracks/6Vjk8MNXpQpi0F4BefdTyq', 'analysis_url': 'https://api.spotify.com/v1/audio-analysis/6Vjk8MNXpQpi0F4BefdTyq', 'duration_ms': 517125, 'time_signature': 3}]\n",
      "\n",
      "track    : Ramble On - 1990 Remaster\n",
      "audio    : https://p.scdn.co/mp3-preview/6b06102e8b3cf22d49834f443f7870f7f1bbdbb4?cid=000c1e86653342e6a32309d577bf6b0e\n",
      "cover art: https://i.scdn.co/image/ab67616d0000b273fc4f17340773c6c3579fea0d\n",
      "track_uri: spotify:track:3MODES4TNtygekLl146Dxd\n",
      "[{'danceability': 0.468, 'energy': 0.607, 'key': 9, 'loudness': -11.367, 'mode': 1, 'speechiness': 0.0336, 'acousticness': 0.072, 'instrumentalness': 0.000852, 'liveness': 0.225, 'valence': 0.886, 'tempo': 98.429, 'type': 'audio_features', 'id': '3MODES4TNtygekLl146Dxd', 'uri': 'spotify:track:3MODES4TNtygekLl146Dxd', 'track_href': 'https://api.spotify.com/v1/tracks/3MODES4TNtygekLl146Dxd', 'analysis_url': 'https://api.spotify.com/v1/audio-analysis/3MODES4TNtygekLl146Dxd', 'duration_ms': 263333, 'time_signature': 4}]\n",
      "\n",
      "track    : Rock and Roll - Remaster\n",
      "audio    : https://p.scdn.co/mp3-preview/6ce49759af47a1eb104e05dac1938d79ddb15ebd?cid=000c1e86653342e6a32309d577bf6b0e\n",
      "cover art: https://i.scdn.co/image/ab67616d0000b273c8a11e48c91a982d086afc69\n",
      "track_uri: spotify:track:4PRGxHpCpF2yoOHYKQIEwD\n",
      "[{'danceability': 0.317, 'energy': 0.887, 'key': 9, 'loudness': -7.292, 'mode': 1, 'speechiness': 0.0375, 'acousticness': 0.000582, 'instrumentalness': 0.00258, 'liveness': 0.0891, 'valence': 0.871, 'tempo': 169.613, 'type': 'audio_features', 'id': '4PRGxHpCpF2yoOHYKQIEwD', 'uri': 'spotify:track:4PRGxHpCpF2yoOHYKQIEwD', 'track_href': 'https://api.spotify.com/v1/tracks/4PRGxHpCpF2yoOHYKQIEwD', 'analysis_url': 'https://api.spotify.com/v1/audio-analysis/4PRGxHpCpF2yoOHYKQIEwD', 'duration_ms': 220561, 'time_signature': 4}]\n",
      "\n",
      "track    : Going to California - Remaster\n",
      "audio    : https://p.scdn.co/mp3-preview/85bbb9572e554786b320555e9bab071986fe73de?cid=000c1e86653342e6a32309d577bf6b0e\n",
      "cover art: https://i.scdn.co/image/ab67616d0000b273c8a11e48c91a982d086afc69\n",
      "track_uri: spotify:track:70gbuMqwNBE2Y5rkQJE9By\n",
      "[{'danceability': 0.503, 'energy': 0.265, 'key': 2, 'loudness': -15.913, 'mode': 1, 'speechiness': 0.0333, 'acousticness': 0.943, 'instrumentalness': 0.045, 'liveness': 0.0867, 'valence': 0.522, 'tempo': 78.044, 'type': 'audio_features', 'id': '70gbuMqwNBE2Y5rkQJE9By', 'uri': 'spotify:track:70gbuMqwNBE2Y5rkQJE9By', 'track_href': 'https://api.spotify.com/v1/tracks/70gbuMqwNBE2Y5rkQJE9By', 'analysis_url': 'https://api.spotify.com/v1/audio-analysis/70gbuMqwNBE2Y5rkQJE9By', 'duration_ms': 212161, 'time_signature': 4}]\n",
      "\n",
      "track    : Good Times Bad Times - 1993 Remaster\n",
      "audio    : https://p.scdn.co/mp3-preview/9d54ac8d655aebf2920de790b421ba13e3508d5b?cid=000c1e86653342e6a32309d577bf6b0e\n",
      "cover art: https://i.scdn.co/image/ab67616d0000b2736f2f499c1df1f210c9b34b32\n",
      "track_uri: spotify:track:0QwZfbw26QeUoIy82Z2jYp\n",
      "[{'danceability': 0.476, 'energy': 0.717, 'key': 9, 'loudness': -9.192, 'mode': 1, 'speechiness': 0.0949, 'acousticness': 0.0382, 'instrumentalness': 7.61e-05, 'liveness': 0.0818, 'valence': 0.753, 'tempo': 93.584, 'type': 'audio_features', 'id': '0QwZfbw26QeUoIy82Z2jYp', 'uri': 'spotify:track:0QwZfbw26QeUoIy82Z2jYp', 'track_href': 'https://api.spotify.com/v1/tracks/0QwZfbw26QeUoIy82Z2jYp', 'analysis_url': 'https://api.spotify.com/v1/audio-analysis/0QwZfbw26QeUoIy82Z2jYp', 'duration_ms': 166267, 'time_signature': 4}]\n",
      "\n",
      "track    : D'yer Mak'er - Remaster\n",
      "audio    : https://p.scdn.co/mp3-preview/d270345618cefadf336a0c7289601e844099265c?cid=000c1e86653342e6a32309d577bf6b0e\n",
      "cover art: https://i.scdn.co/image/ab67616d0000b2731816adce1d49e35d3ce9a1d1\n",
      "track_uri: spotify:track:4ItljeeAXtHsnsnnQojaO2\n",
      "[{'danceability': 0.525, 'energy': 0.929, 'key': 9, 'loudness': -8.56, 'mode': 0, 'speechiness': 0.0784, 'acousticness': 0.262, 'instrumentalness': 2.9e-05, 'liveness': 0.0754, 'valence': 0.556, 'tempo': 163.503, 'type': 'audio_features', 'id': '4ItljeeAXtHsnsnnQojaO2', 'uri': 'spotify:track:4ItljeeAXtHsnsnnQojaO2', 'track_href': 'https://api.spotify.com/v1/tracks/4ItljeeAXtHsnsnnQojaO2', 'analysis_url': 'https://api.spotify.com/v1/audio-analysis/4ItljeeAXtHsnsnnQojaO2', 'duration_ms': 262748, 'time_signature': 4}]\n",
      "\n"
     ]
    }
   ],
   "source": [
    "import spotipy\n",
    "from spotipy.oauth2 import SpotifyClientCredentials\n",
    "\n",
    "lz_uri = 'spotify:artist:36QJpDe2go2KgaRleHCDTp'\n",
    "\n",
    "spotify = spotipy.Spotify(client_credentials_manager=SpotifyClientCredentials())\n",
    "results = spotify.artist_top_tracks(lz_uri)\n",
    "\n",
    "for track in results['tracks'][:10]:\n",
    "    print('track    : ' + track['name'])\n",
    "    print('audio    : ' + track['preview_url'])\n",
    "    print('cover art: ' + track['album']['images'][0]['url'])\n",
    "    print('track_uri: ' + track['uri'])\n",
    "    print(spotify.audio_features(track['uri']))\n",
    "    print()"
   ]
  }
 ],
 "metadata": {
  "interpreter": {
   "hash": "a82a44f63f1bb403df70fdb3cb4c9208392774681d0eb261f1440c4dbe9fb9e5"
  },
  "kernelspec": {
   "display_name": "Python 3.9.12 ('spotify')",
   "language": "python",
   "name": "python3"
  },
  "language_info": {
   "codemirror_mode": {
    "name": "ipython",
    "version": 3
   },
   "file_extension": ".py",
   "mimetype": "text/x-python",
   "name": "python",
   "nbconvert_exporter": "python",
   "pygments_lexer": "ipython3",
   "version": "3.9.12"
  },
  "orig_nbformat": 4
 },
 "nbformat": 4,
 "nbformat_minor": 2
}
